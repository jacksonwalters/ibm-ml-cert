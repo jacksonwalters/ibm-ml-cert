{
 "cells": [
  {
   "cell_type": "code",
   "execution_count": 1,
   "id": "540beed0-bc09-44e7-a9af-9c67f194807e",
   "metadata": {},
   "outputs": [
    {
     "name": "stdout",
     "output_type": "stream",
     "text": [
      "Defaulting to user installation because normal site-packages is not writeable\n",
      "Collecting seaborn==0.11.1\n",
      "  Downloading seaborn-0.11.1-py3-none-any.whl.metadata (2.3 kB)\n",
      "Requirement already satisfied: numpy>=1.15 in /Users/jacksonwalters/Library/Python/3.9/lib/python/site-packages (from seaborn==0.11.1) (1.26.2)\n",
      "Requirement already satisfied: scipy>=1.0 in /Users/jacksonwalters/Library/Python/3.9/lib/python/site-packages (from seaborn==0.11.1) (1.11.4)\n",
      "Requirement already satisfied: pandas>=0.23 in /Users/jacksonwalters/Library/Python/3.9/lib/python/site-packages (from seaborn==0.11.1) (1.3.5)\n",
      "Requirement already satisfied: matplotlib>=2.2 in /Users/jacksonwalters/Library/Python/3.9/lib/python/site-packages (from seaborn==0.11.1) (3.8.2)\n",
      "Requirement already satisfied: contourpy>=1.0.1 in /Users/jacksonwalters/Library/Python/3.9/lib/python/site-packages (from matplotlib>=2.2->seaborn==0.11.1) (1.2.0)\n",
      "Requirement already satisfied: cycler>=0.10 in /Users/jacksonwalters/Library/Python/3.9/lib/python/site-packages (from matplotlib>=2.2->seaborn==0.11.1) (0.12.1)\n",
      "Requirement already satisfied: fonttools>=4.22.0 in /Users/jacksonwalters/Library/Python/3.9/lib/python/site-packages (from matplotlib>=2.2->seaborn==0.11.1) (4.46.0)\n",
      "Requirement already satisfied: kiwisolver>=1.3.1 in /Users/jacksonwalters/Library/Python/3.9/lib/python/site-packages (from matplotlib>=2.2->seaborn==0.11.1) (1.4.5)\n",
      "Requirement already satisfied: packaging>=20.0 in /Users/jacksonwalters/Library/Python/3.9/lib/python/site-packages (from matplotlib>=2.2->seaborn==0.11.1) (23.2)\n",
      "Requirement already satisfied: pillow>=8 in /Users/jacksonwalters/Library/Python/3.9/lib/python/site-packages (from matplotlib>=2.2->seaborn==0.11.1) (10.1.0)\n",
      "Requirement already satisfied: pyparsing>=2.3.1 in /Users/jacksonwalters/Library/Python/3.9/lib/python/site-packages (from matplotlib>=2.2->seaborn==0.11.1) (3.1.1)\n",
      "Requirement already satisfied: python-dateutil>=2.7 in /Users/jacksonwalters/Library/Python/3.9/lib/python/site-packages (from matplotlib>=2.2->seaborn==0.11.1) (2.8.2)\n",
      "Requirement already satisfied: importlib-resources>=3.2.0 in /Users/jacksonwalters/Library/Python/3.9/lib/python/site-packages (from matplotlib>=2.2->seaborn==0.11.1) (6.1.1)\n",
      "Requirement already satisfied: pytz>=2017.3 in /Users/jacksonwalters/Library/Python/3.9/lib/python/site-packages (from pandas>=0.23->seaborn==0.11.1) (2023.3.post1)\n",
      "Requirement already satisfied: zipp>=3.1.0 in /Users/jacksonwalters/Library/Python/3.9/lib/python/site-packages (from importlib-resources>=3.2.0->matplotlib>=2.2->seaborn==0.11.1) (3.17.0)\n",
      "Requirement already satisfied: six>=1.5 in /Library/Developer/CommandLineTools/Library/Frameworks/Python3.framework/Versions/3.9/lib/python3.9/site-packages (from python-dateutil>=2.7->matplotlib>=2.2->seaborn==0.11.1) (1.15.0)\n",
      "Downloading seaborn-0.11.1-py3-none-any.whl (285 kB)\n",
      "\u001b[2K   \u001b[90m━━━━━━━━━━━━━━━━━━━━━━━━━━━━━━━━━━━━━━━━\u001b[0m \u001b[32m285.0/285.0 kB\u001b[0m \u001b[31m6.7 MB/s\u001b[0m eta \u001b[36m0:00:00\u001b[0ma \u001b[36m0:00:01\u001b[0m\n",
      "\u001b[?25hInstalling collected packages: seaborn\n",
      "  Attempting uninstall: seaborn\n",
      "    Found existing installation: seaborn 0.13.2\n",
      "    Uninstalling seaborn-0.13.2:\n",
      "      Successfully uninstalled seaborn-0.13.2\n",
      "Successfully installed seaborn-0.11.1\n",
      "Defaulting to user installation because normal site-packages is not writeable\n",
      "Collecting wordcloud==1.8.1\n",
      "  Downloading wordcloud-1.8.1.tar.gz (220 kB)\n",
      "\u001b[2K     \u001b[90m━━━━━━━━━━━━━━━━━━━━━━━━━━━━━━━━━━━━━━━\u001b[0m \u001b[32m220.7/220.7 kB\u001b[0m \u001b[31m5.2 MB/s\u001b[0m eta \u001b[36m0:00:00\u001b[0m00:01\u001b[0m\n",
      "\u001b[?25h  Preparing metadata (setup.py) ... \u001b[?25ldone\n",
      "\u001b[?25hRequirement already satisfied: numpy>=1.6.1 in /Users/jacksonwalters/Library/Python/3.9/lib/python/site-packages (from wordcloud==1.8.1) (1.26.2)\n",
      "Requirement already satisfied: pillow in /Users/jacksonwalters/Library/Python/3.9/lib/python/site-packages (from wordcloud==1.8.1) (10.1.0)\n",
      "Requirement already satisfied: matplotlib in /Users/jacksonwalters/Library/Python/3.9/lib/python/site-packages (from wordcloud==1.8.1) (3.8.2)\n",
      "Requirement already satisfied: contourpy>=1.0.1 in /Users/jacksonwalters/Library/Python/3.9/lib/python/site-packages (from matplotlib->wordcloud==1.8.1) (1.2.0)\n",
      "Requirement already satisfied: cycler>=0.10 in /Users/jacksonwalters/Library/Python/3.9/lib/python/site-packages (from matplotlib->wordcloud==1.8.1) (0.12.1)\n",
      "Requirement already satisfied: fonttools>=4.22.0 in /Users/jacksonwalters/Library/Python/3.9/lib/python/site-packages (from matplotlib->wordcloud==1.8.1) (4.46.0)\n",
      "Requirement already satisfied: kiwisolver>=1.3.1 in /Users/jacksonwalters/Library/Python/3.9/lib/python/site-packages (from matplotlib->wordcloud==1.8.1) (1.4.5)\n",
      "Requirement already satisfied: packaging>=20.0 in /Users/jacksonwalters/Library/Python/3.9/lib/python/site-packages (from matplotlib->wordcloud==1.8.1) (23.2)\n",
      "Requirement already satisfied: pyparsing>=2.3.1 in /Users/jacksonwalters/Library/Python/3.9/lib/python/site-packages (from matplotlib->wordcloud==1.8.1) (3.1.1)\n",
      "Requirement already satisfied: python-dateutil>=2.7 in /Users/jacksonwalters/Library/Python/3.9/lib/python/site-packages (from matplotlib->wordcloud==1.8.1) (2.8.2)\n",
      "Requirement already satisfied: importlib-resources>=3.2.0 in /Users/jacksonwalters/Library/Python/3.9/lib/python/site-packages (from matplotlib->wordcloud==1.8.1) (6.1.1)\n",
      "Requirement already satisfied: zipp>=3.1.0 in /Users/jacksonwalters/Library/Python/3.9/lib/python/site-packages (from importlib-resources>=3.2.0->matplotlib->wordcloud==1.8.1) (3.17.0)\n",
      "Requirement already satisfied: six>=1.5 in /Library/Developer/CommandLineTools/Library/Frameworks/Python3.framework/Versions/3.9/lib/python3.9/site-packages (from python-dateutil>=2.7->matplotlib->wordcloud==1.8.1) (1.15.0)\n",
      "Building wheels for collected packages: wordcloud\n",
      "  Building wheel for wordcloud (setup.py) ... \u001b[?25ldone\n",
      "\u001b[?25h  Created wheel for wordcloud: filename=wordcloud-1.8.1-cp39-cp39-macosx_10_9_universal2.whl size=216660 sha256=974919fdc88582dc104d5cf05f5120ff03066acdffb05c81ba6a05f7ce61d84a\n",
      "  Stored in directory: /Users/jacksonwalters/Library/Caches/pip/wheels/f9/7a/dd/06ef8b5dfe5483f6204133c08eeb16c287cc2c05e290ae2fc0\n",
      "Successfully built wordcloud\n",
      "Installing collected packages: wordcloud\n",
      "Successfully installed wordcloud-1.8.1\n"
     ]
    }
   ],
   "source": [
    "!pip install seaborn==0.11.1\n",
    "!pip install wordcloud==1.8.1"
   ]
  },
  {
   "cell_type": "code",
   "execution_count": 23,
   "id": "8e0fe387-8df0-4454-95dd-646317e5d667",
   "metadata": {},
   "outputs": [],
   "source": [
    "import pandas as pd\n",
    "import numpy as np\n",
    "import matplotlib.pyplot as plt\n",
    "import seaborn as sns\n",
    "\n",
    "%matplotlib inline"
   ]
  },
  {
   "cell_type": "code",
   "execution_count": 3,
   "id": "520ce3f3-bb86-43d7-9d3d-f02e3201b2af",
   "metadata": {},
   "outputs": [],
   "source": [
    "# also set a random state\n",
    "rs = 123"
   ]
  },
  {
   "cell_type": "code",
   "execution_count": 4,
   "id": "b5e50a95-d3ab-455f-b8f2-bd163246258f",
   "metadata": {},
   "outputs": [],
   "source": [
    "# Point to the datasets stored on the cloud\n",
    "course_genre_url = \"https://cf-courses-data.s3.us.cloud-object-storage.appdomain.cloud/IBM-ML321EN-SkillsNetwork/labs/datasets/course_genre.csv\"\n",
    "ratings_url = \"https://cf-courses-data.s3.us.cloud-object-storage.appdomain.cloud/IBM-ML321EN-SkillsNetwork/labs/datasets/ratings.csv\""
   ]
  },
  {
   "cell_type": "code",
   "execution_count": 5,
   "id": "721622e4-2112-4714-a9b9-14db15e23f1d",
   "metadata": {},
   "outputs": [],
   "source": [
    "course_df = pd.read_csv(course_genre_url)\n",
    "ratings_df = pd.read_csv(ratings_url)"
   ]
  },
  {
   "cell_type": "code",
   "execution_count": 6,
   "id": "7c7fdc58-5293-4bdc-bad9-65eb479a72f2",
   "metadata": {},
   "outputs": [
    {
     "data": {
      "text/plain": [
       "Index(['COURSE_ID', 'TITLE', 'Database', 'Python', 'CloudComputing',\n",
       "       'DataAnalysis', 'Containers', 'MachineLearning', 'ComputerVision',\n",
       "       'DataScience', 'BigData', 'Chatbot', 'R', 'BackendDev', 'FrontendDev',\n",
       "       'Blockchain'],\n",
       "      dtype='object')"
      ]
     },
     "execution_count": 6,
     "metadata": {},
     "output_type": "execute_result"
    }
   ],
   "source": [
    "course_df.columns"
   ]
  },
  {
   "cell_type": "code",
   "execution_count": 7,
   "id": "26058ecc-c71e-4365-a071-ee4d09cfc4c2",
   "metadata": {},
   "outputs": [
    {
     "data": {
      "text/plain": [
       "307"
      ]
     },
     "execution_count": 7,
     "metadata": {},
     "output_type": "execute_result"
    }
   ],
   "source": [
    "course_df.shape[0]"
   ]
  },
  {
   "cell_type": "code",
   "execution_count": 8,
   "id": "763ae035-7219-4c30-8f01-ca516b57f953",
   "metadata": {},
   "outputs": [
    {
     "data": {
      "text/html": [
       "<div>\n",
       "<style scoped>\n",
       "    .dataframe tbody tr th:only-of-type {\n",
       "        vertical-align: middle;\n",
       "    }\n",
       "\n",
       "    .dataframe tbody tr th {\n",
       "        vertical-align: top;\n",
       "    }\n",
       "\n",
       "    .dataframe thead th {\n",
       "        text-align: right;\n",
       "    }\n",
       "</style>\n",
       "<table border=\"1\" class=\"dataframe\">\n",
       "  <thead>\n",
       "    <tr style=\"text-align: right;\">\n",
       "      <th></th>\n",
       "      <th>COURSE_ID</th>\n",
       "      <th>TITLE</th>\n",
       "      <th>Database</th>\n",
       "      <th>Python</th>\n",
       "      <th>CloudComputing</th>\n",
       "      <th>DataAnalysis</th>\n",
       "      <th>Containers</th>\n",
       "      <th>MachineLearning</th>\n",
       "      <th>ComputerVision</th>\n",
       "      <th>DataScience</th>\n",
       "      <th>BigData</th>\n",
       "      <th>Chatbot</th>\n",
       "      <th>R</th>\n",
       "      <th>BackendDev</th>\n",
       "      <th>FrontendDev</th>\n",
       "      <th>Blockchain</th>\n",
       "    </tr>\n",
       "  </thead>\n",
       "  <tbody>\n",
       "    <tr>\n",
       "      <th>0</th>\n",
       "      <td>ML0201EN</td>\n",
       "      <td>robots are coming  build iot apps with watson ...</td>\n",
       "      <td>0</td>\n",
       "      <td>0</td>\n",
       "      <td>0</td>\n",
       "      <td>0</td>\n",
       "      <td>0</td>\n",
       "      <td>0</td>\n",
       "      <td>0</td>\n",
       "      <td>0</td>\n",
       "      <td>0</td>\n",
       "      <td>0</td>\n",
       "      <td>0</td>\n",
       "      <td>1</td>\n",
       "      <td>1</td>\n",
       "      <td>0</td>\n",
       "    </tr>\n",
       "    <tr>\n",
       "      <th>1</th>\n",
       "      <td>ML0122EN</td>\n",
       "      <td>accelerating deep learning with gpu</td>\n",
       "      <td>0</td>\n",
       "      <td>1</td>\n",
       "      <td>0</td>\n",
       "      <td>0</td>\n",
       "      <td>0</td>\n",
       "      <td>1</td>\n",
       "      <td>0</td>\n",
       "      <td>1</td>\n",
       "      <td>0</td>\n",
       "      <td>0</td>\n",
       "      <td>0</td>\n",
       "      <td>0</td>\n",
       "      <td>0</td>\n",
       "      <td>0</td>\n",
       "    </tr>\n",
       "    <tr>\n",
       "      <th>2</th>\n",
       "      <td>GPXX0ZG0EN</td>\n",
       "      <td>consuming restful services using the reactive ...</td>\n",
       "      <td>0</td>\n",
       "      <td>0</td>\n",
       "      <td>0</td>\n",
       "      <td>0</td>\n",
       "      <td>0</td>\n",
       "      <td>0</td>\n",
       "      <td>0</td>\n",
       "      <td>0</td>\n",
       "      <td>0</td>\n",
       "      <td>0</td>\n",
       "      <td>0</td>\n",
       "      <td>1</td>\n",
       "      <td>1</td>\n",
       "      <td>0</td>\n",
       "    </tr>\n",
       "    <tr>\n",
       "      <th>3</th>\n",
       "      <td>RP0105EN</td>\n",
       "      <td>analyzing big data in r using apache spark</td>\n",
       "      <td>1</td>\n",
       "      <td>0</td>\n",
       "      <td>0</td>\n",
       "      <td>1</td>\n",
       "      <td>0</td>\n",
       "      <td>0</td>\n",
       "      <td>0</td>\n",
       "      <td>0</td>\n",
       "      <td>1</td>\n",
       "      <td>0</td>\n",
       "      <td>1</td>\n",
       "      <td>0</td>\n",
       "      <td>0</td>\n",
       "      <td>0</td>\n",
       "    </tr>\n",
       "    <tr>\n",
       "      <th>4</th>\n",
       "      <td>GPXX0Z2PEN</td>\n",
       "      <td>containerizing  packaging  and running a sprin...</td>\n",
       "      <td>0</td>\n",
       "      <td>0</td>\n",
       "      <td>0</td>\n",
       "      <td>0</td>\n",
       "      <td>1</td>\n",
       "      <td>0</td>\n",
       "      <td>0</td>\n",
       "      <td>0</td>\n",
       "      <td>0</td>\n",
       "      <td>0</td>\n",
       "      <td>0</td>\n",
       "      <td>1</td>\n",
       "      <td>0</td>\n",
       "      <td>0</td>\n",
       "    </tr>\n",
       "  </tbody>\n",
       "</table>\n",
       "</div>"
      ],
      "text/plain": [
       "    COURSE_ID                                              TITLE  Database  \\\n",
       "0    ML0201EN  robots are coming  build iot apps with watson ...         0   \n",
       "1    ML0122EN                accelerating deep learning with gpu         0   \n",
       "2  GPXX0ZG0EN  consuming restful services using the reactive ...         0   \n",
       "3    RP0105EN         analyzing big data in r using apache spark         1   \n",
       "4  GPXX0Z2PEN  containerizing  packaging  and running a sprin...         0   \n",
       "\n",
       "   Python  CloudComputing  DataAnalysis  Containers  MachineLearning  \\\n",
       "0       0               0             0           0                0   \n",
       "1       1               0             0           0                1   \n",
       "2       0               0             0           0                0   \n",
       "3       0               0             1           0                0   \n",
       "4       0               0             0           1                0   \n",
       "\n",
       "   ComputerVision  DataScience  BigData  Chatbot  R  BackendDev  FrontendDev  \\\n",
       "0               0            0        0        0  0           1            1   \n",
       "1               0            1        0        0  0           0            0   \n",
       "2               0            0        0        0  0           1            1   \n",
       "3               0            0        1        0  1           0            0   \n",
       "4               0            0        0        0  0           1            0   \n",
       "\n",
       "   Blockchain  \n",
       "0           0  \n",
       "1           0  \n",
       "2           0  \n",
       "3           0  \n",
       "4           0  "
      ]
     },
     "execution_count": 8,
     "metadata": {},
     "output_type": "execute_result"
    }
   ],
   "source": [
    "course_df.head()"
   ]
  },
  {
   "cell_type": "code",
   "execution_count": 9,
   "id": "13e1b348-1576-4b8f-8e12-59336249b052",
   "metadata": {},
   "outputs": [
    {
     "data": {
      "text/plain": [
       "COURSE_ID          object\n",
       "TITLE              object\n",
       "Database            int64\n",
       "Python              int64\n",
       "CloudComputing      int64\n",
       "DataAnalysis        int64\n",
       "Containers          int64\n",
       "MachineLearning     int64\n",
       "ComputerVision      int64\n",
       "DataScience         int64\n",
       "BigData             int64\n",
       "Chatbot             int64\n",
       "R                   int64\n",
       "BackendDev          int64\n",
       "FrontendDev         int64\n",
       "Blockchain          int64\n",
       "dtype: object"
      ]
     },
     "execution_count": 9,
     "metadata": {},
     "output_type": "execute_result"
    }
   ],
   "source": [
    "course_df.dtypes"
   ]
  },
  {
   "cell_type": "code",
   "execution_count": 10,
   "id": "aba013c4-aff6-4242-8537-d946da16f571",
   "metadata": {},
   "outputs": [
    {
     "data": {
      "text/plain": [
       "COURSE_ID                                     ML0122EN\n",
       "TITLE              accelerating deep learning with gpu\n",
       "Database                                             0\n",
       "Python                                               1\n",
       "CloudComputing                                       0\n",
       "DataAnalysis                                         0\n",
       "Containers                                           0\n",
       "MachineLearning                                      1\n",
       "ComputerVision                                       0\n",
       "DataScience                                          1\n",
       "BigData                                              0\n",
       "Chatbot                                              0\n",
       "R                                                    0\n",
       "BackendDev                                           0\n",
       "FrontendDev                                          0\n",
       "Blockchain                                           0\n",
       "Name: 1, dtype: object"
      ]
     },
     "execution_count": 10,
     "metadata": {},
     "output_type": "execute_result"
    }
   ],
   "source": [
    "course_df.iloc[1, ]"
   ]
  },
  {
   "cell_type": "code",
   "execution_count": 11,
   "id": "e1632235-73a4-4185-b55e-dc7c23315215",
   "metadata": {},
   "outputs": [],
   "source": [
    "titles = \" \".join(title for title in course_df['TITLE'].astype(str))"
   ]
  },
  {
   "cell_type": "code",
   "execution_count": 26,
   "id": "4fd9a5ad-d65b-4849-a271-12a6a85b268d",
   "metadata": {},
   "outputs": [],
   "source": [
    "indices = course_df['MachineLearning'] == 1\n",
    "\n",
    "ml_courses = course_df[indices]"
   ]
  },
  {
   "cell_type": "code",
   "execution_count": 34,
   "id": "82c4815a-8bda-495a-8718-2b3d14d201eb",
   "metadata": {},
   "outputs": [],
   "source": [
    "big_data_courses = course_df[course_df['BigData'] == 1]"
   ]
  },
  {
   "cell_type": "code",
   "execution_count": 36,
   "id": "d7b5ac74-cbd1-472f-9041-abbab1d9a405",
   "metadata": {},
   "outputs": [],
   "source": [
    "ml_big_data_courses = course_df[(course_df['BigData'] == 1) & (course_df['MachineLearning'] == 1)]"
   ]
  },
  {
   "cell_type": "code",
   "execution_count": 38,
   "id": "17ec8306-59e0-49e5-97d0-0e07a63f78cf",
   "metadata": {},
   "outputs": [
    {
     "data": {
      "text/plain": [
       "Index(['Database', 'Python', 'CloudComputing', 'DataAnalysis', 'Containers',\n",
       "       'MachineLearning', 'ComputerVision', 'DataScience', 'BigData',\n",
       "       'Chatbot', 'R', 'BackendDev', 'FrontendDev', 'Blockchain'],\n",
       "      dtype='object')"
      ]
     },
     "execution_count": 38,
     "metadata": {},
     "output_type": "execute_result"
    }
   ],
   "source": [
    "genres = course_df.columns[2:]\n",
    "genres"
   ]
  },
  {
   "cell_type": "code",
   "execution_count": 41,
   "id": "55d69bf2-caa3-4888-82da-cd8eb3eda7d7",
   "metadata": {},
   "outputs": [],
   "source": [
    "genre_sums = course_df[genres].sum(axis=0)"
   ]
  },
  {
   "cell_type": "code",
   "execution_count": 43,
   "id": "4b12e6d2-28a1-4a8e-991d-cf022e289a24",
   "metadata": {},
   "outputs": [],
   "source": [
    "genre_sums_df = pd.DataFrame(genre_sums, columns = ['Count'])"
   ]
  },
  {
   "cell_type": "code",
   "execution_count": 48,
   "id": "b765852e-2dd6-462d-a63d-bdf554fe01a5",
   "metadata": {},
   "outputs": [],
   "source": [
    "genre_sums_df = genre_sums_df.sort_values(by = \"Count\", ascending=False)"
   ]
  },
  {
   "cell_type": "code",
   "execution_count": 49,
   "id": "91831b65-da86-4224-87af-19da7dc00181",
   "metadata": {},
   "outputs": [
    {
     "data": {
      "text/plain": [
       "<Axes: ylabel='Count'>"
      ]
     },
     "execution_count": 49,
     "metadata": {},
     "output_type": "execute_result"
    },
    {
     "data": {
      "image/png": "[encoded data removed]",
      "text/plain": [
       "<Figure size 640x480 with 1 Axes>"
      ]
     },
     "metadata": {},
     "output_type": "display_data"
    }
   ],
   "source": [
    "sns.barplot(x=genre_sums_df.index, y=\"Count\", data=genre_sums_df)"
   ]
  },
  {
   "cell_type": "code",
   "execution_count": 50,
   "id": "8e910e72-98dc-4d8c-85e4-3e65d581b2b5",
   "metadata": {},
   "outputs": [
    {
     "data": {
      "text/html": [
       "<div>\n",
       "<style scoped>\n",
       "    .dataframe tbody tr th:only-of-type {\n",
       "        vertical-align: middle;\n",
       "    }\n",
       "\n",
       "    .dataframe tbody tr th {\n",
       "        vertical-align: top;\n",
       "    }\n",
       "\n",
       "    .dataframe thead th {\n",
       "        text-align: right;\n",
       "    }\n",
       "</style>\n",
       "<table border=\"1\" class=\"dataframe\">\n",
       "  <thead>\n",
       "    <tr style=\"text-align: right;\">\n",
       "      <th></th>\n",
       "      <th>user</th>\n",
       "      <th>item</th>\n",
       "      <th>rating</th>\n",
       "    </tr>\n",
       "  </thead>\n",
       "  <tbody>\n",
       "    <tr>\n",
       "      <th>0</th>\n",
       "      <td>1889878</td>\n",
       "      <td>CC0101EN</td>\n",
       "      <td>3.0</td>\n",
       "    </tr>\n",
       "    <tr>\n",
       "      <th>1</th>\n",
       "      <td>1342067</td>\n",
       "      <td>CL0101EN</td>\n",
       "      <td>3.0</td>\n",
       "    </tr>\n",
       "    <tr>\n",
       "      <th>2</th>\n",
       "      <td>1990814</td>\n",
       "      <td>ML0120ENv3</td>\n",
       "      <td>3.0</td>\n",
       "    </tr>\n",
       "    <tr>\n",
       "      <th>3</th>\n",
       "      <td>380098</td>\n",
       "      <td>BD0211EN</td>\n",
       "      <td>3.0</td>\n",
       "    </tr>\n",
       "    <tr>\n",
       "      <th>4</th>\n",
       "      <td>779563</td>\n",
       "      <td>DS0101EN</td>\n",
       "      <td>3.0</td>\n",
       "    </tr>\n",
       "  </tbody>\n",
       "</table>\n",
       "</div>"
      ],
      "text/plain": [
       "      user        item  rating\n",
       "0  1889878    CC0101EN     3.0\n",
       "1  1342067    CL0101EN     3.0\n",
       "2  1990814  ML0120ENv3     3.0\n",
       "3   380098    BD0211EN     3.0\n",
       "4   779563    DS0101EN     3.0"
      ]
     },
     "execution_count": 50,
     "metadata": {},
     "output_type": "execute_result"
    }
   ],
   "source": [
    "ratings_df.head()"
   ]
  },
  {
   "cell_type": "code",
   "execution_count": 51,
   "id": "fe051a26-abc6-4ce0-a3fe-814eafb9791a",
   "metadata": {},
   "outputs": [
    {
     "data": {
      "text/plain": [
       "array([3., 2.])"
      ]
     },
     "execution_count": 51,
     "metadata": {},
     "output_type": "execute_result"
    }
   ],
   "source": [
    "ratings_df['rating'].unique()"
   ]
  },
  {
   "cell_type": "code",
   "execution_count": 52,
   "id": "acd83d46-864b-4fd5-9cc0-d667a1859f36",
   "metadata": {},
   "outputs": [
    {
     "data": {
      "text/plain": [
       "233306"
      ]
     },
     "execution_count": 52,
     "metadata": {},
     "output_type": "execute_result"
    }
   ],
   "source": [
    "ratings_df.shape[0]"
   ]
  },
  {
   "cell_type": "code",
   "execution_count": 65,
   "id": "93c9d362-16fd-4e25-9575-0f24729f8ef8",
   "metadata": {},
   "outputs": [
    {
     "data": {
      "text/plain": [
       "user\n",
       "2          61\n",
       "4          44\n",
       "5          59\n",
       "7           1\n",
       "8           3\n",
       "           ..\n",
       "2102054     8\n",
       "2102356     1\n",
       "2102680    11\n",
       "2102983     1\n",
       "2103039     1\n",
       "Length: 33901, dtype: int64"
      ]
     },
     "execution_count": 65,
     "metadata": {},
     "output_type": "execute_result"
    }
   ],
   "source": [
    "ratings_df.groupby('user').size()"
   ]
  },
  {
   "cell_type": "code",
   "execution_count": 58,
   "id": "b9a9ee2c-0004-43e1-ac3d-74b6c7ae35be",
   "metadata": {},
   "outputs": [
    {
     "data": {
      "text/html": [
       "<div>\n",
       "<style scoped>\n",
       "    .dataframe tbody tr th:only-of-type {\n",
       "        vertical-align: middle;\n",
       "    }\n",
       "\n",
       "    .dataframe tbody tr th {\n",
       "        vertical-align: top;\n",
       "    }\n",
       "\n",
       "    .dataframe thead th {\n",
       "        text-align: right;\n",
       "    }\n",
       "</style>\n",
       "<table border=\"1\" class=\"dataframe\">\n",
       "  <thead>\n",
       "    <tr style=\"text-align: right;\">\n",
       "      <th></th>\n",
       "      <th>Database</th>\n",
       "      <th>Python</th>\n",
       "      <th>CloudComputing</th>\n",
       "      <th>DataAnalysis</th>\n",
       "      <th>Containers</th>\n",
       "      <th>MachineLearning</th>\n",
       "      <th>ComputerVision</th>\n",
       "      <th>DataScience</th>\n",
       "      <th>BigData</th>\n",
       "      <th>Chatbot</th>\n",
       "      <th>R</th>\n",
       "      <th>BackendDev</th>\n",
       "      <th>FrontendDev</th>\n",
       "      <th>Blockchain</th>\n",
       "    </tr>\n",
       "  </thead>\n",
       "  <tbody>\n",
       "    <tr>\n",
       "      <th>count</th>\n",
       "      <td>307.000000</td>\n",
       "      <td>307.000000</td>\n",
       "      <td>307.000000</td>\n",
       "      <td>307.000000</td>\n",
       "      <td>307.000000</td>\n",
       "      <td>307.000000</td>\n",
       "      <td>307.000000</td>\n",
       "      <td>307.000000</td>\n",
       "      <td>307.000000</td>\n",
       "      <td>307.000000</td>\n",
       "      <td>307.000000</td>\n",
       "      <td>307.000000</td>\n",
       "      <td>307.000000</td>\n",
       "      <td>307.000000</td>\n",
       "    </tr>\n",
       "    <tr>\n",
       "      <th>mean</th>\n",
       "      <td>0.195440</td>\n",
       "      <td>0.091205</td>\n",
       "      <td>0.120521</td>\n",
       "      <td>0.182410</td>\n",
       "      <td>0.055375</td>\n",
       "      <td>0.224756</td>\n",
       "      <td>0.032573</td>\n",
       "      <td>0.123779</td>\n",
       "      <td>0.117264</td>\n",
       "      <td>0.013029</td>\n",
       "      <td>0.055375</td>\n",
       "      <td>0.254072</td>\n",
       "      <td>0.061889</td>\n",
       "      <td>0.013029</td>\n",
       "    </tr>\n",
       "    <tr>\n",
       "      <th>std</th>\n",
       "      <td>0.397186</td>\n",
       "      <td>0.288371</td>\n",
       "      <td>0.326102</td>\n",
       "      <td>0.386813</td>\n",
       "      <td>0.229083</td>\n",
       "      <td>0.418103</td>\n",
       "      <td>0.177807</td>\n",
       "      <td>0.329866</td>\n",
       "      <td>0.322260</td>\n",
       "      <td>0.113585</td>\n",
       "      <td>0.229083</td>\n",
       "      <td>0.436049</td>\n",
       "      <td>0.241348</td>\n",
       "      <td>0.113585</td>\n",
       "    </tr>\n",
       "    <tr>\n",
       "      <th>min</th>\n",
       "      <td>0.000000</td>\n",
       "      <td>0.000000</td>\n",
       "      <td>0.000000</td>\n",
       "      <td>0.000000</td>\n",
       "      <td>0.000000</td>\n",
       "      <td>0.000000</td>\n",
       "      <td>0.000000</td>\n",
       "      <td>0.000000</td>\n",
       "      <td>0.000000</td>\n",
       "      <td>0.000000</td>\n",
       "      <td>0.000000</td>\n",
       "      <td>0.000000</td>\n",
       "      <td>0.000000</td>\n",
       "      <td>0.000000</td>\n",
       "    </tr>\n",
       "    <tr>\n",
       "      <th>25%</th>\n",
       "      <td>0.000000</td>\n",
       "      <td>0.000000</td>\n",
       "      <td>0.000000</td>\n",
       "      <td>0.000000</td>\n",
       "      <td>0.000000</td>\n",
       "      <td>0.000000</td>\n",
       "      <td>0.000000</td>\n",
       "      <td>0.000000</td>\n",
       "      <td>0.000000</td>\n",
       "      <td>0.000000</td>\n",
       "      <td>0.000000</td>\n",
       "      <td>0.000000</td>\n",
       "      <td>0.000000</td>\n",
       "      <td>0.000000</td>\n",
       "    </tr>\n",
       "    <tr>\n",
       "      <th>50%</th>\n",
       "      <td>0.000000</td>\n",
       "      <td>0.000000</td>\n",
       "      <td>0.000000</td>\n",
       "      <td>0.000000</td>\n",
       "      <td>0.000000</td>\n",
       "      <td>0.000000</td>\n",
       "      <td>0.000000</td>\n",
       "      <td>0.000000</td>\n",
       "      <td>0.000000</td>\n",
       "      <td>0.000000</td>\n",
       "      <td>0.000000</td>\n",
       "      <td>0.000000</td>\n",
       "      <td>0.000000</td>\n",
       "      <td>0.000000</td>\n",
       "    </tr>\n",
       "    <tr>\n",
       "      <th>75%</th>\n",
       "      <td>0.000000</td>\n",
       "      <td>0.000000</td>\n",
       "      <td>0.000000</td>\n",
       "      <td>0.000000</td>\n",
       "      <td>0.000000</td>\n",
       "      <td>0.000000</td>\n",
       "      <td>0.000000</td>\n",
       "      <td>0.000000</td>\n",
       "      <td>0.000000</td>\n",
       "      <td>0.000000</td>\n",
       "      <td>0.000000</td>\n",
       "      <td>1.000000</td>\n",
       "      <td>0.000000</td>\n",
       "      <td>0.000000</td>\n",
       "    </tr>\n",
       "    <tr>\n",
       "      <th>max</th>\n",
       "      <td>1.000000</td>\n",
       "      <td>1.000000</td>\n",
       "      <td>1.000000</td>\n",
       "      <td>1.000000</td>\n",
       "      <td>1.000000</td>\n",
       "      <td>1.000000</td>\n",
       "      <td>1.000000</td>\n",
       "      <td>1.000000</td>\n",
       "      <td>1.000000</td>\n",
       "      <td>1.000000</td>\n",
       "      <td>1.000000</td>\n",
       "      <td>1.000000</td>\n",
       "      <td>1.000000</td>\n",
       "      <td>1.000000</td>\n",
       "    </tr>\n",
       "  </tbody>\n",
       "</table>\n",
       "</div>"
      ],
      "text/plain": [
       "         Database      Python  CloudComputing  DataAnalysis  Containers  \\\n",
       "count  307.000000  307.000000      307.000000    307.000000  307.000000   \n",
       "mean     0.195440    0.091205        0.120521      0.182410    0.055375   \n",
       "std      0.397186    0.288371        0.326102      0.386813    0.229083   \n",
       "min      0.000000    0.000000        0.000000      0.000000    0.000000   \n",
       "25%      0.000000    0.000000        0.000000      0.000000    0.000000   \n",
       "50%      0.000000    0.000000        0.000000      0.000000    0.000000   \n",
       "75%      0.000000    0.000000        0.000000      0.000000    0.000000   \n",
       "max      1.000000    1.000000        1.000000      1.000000    1.000000   \n",
       "\n",
       "       MachineLearning  ComputerVision  DataScience     BigData     Chatbot  \\\n",
       "count       307.000000      307.000000   307.000000  307.000000  307.000000   \n",
       "mean          0.224756        0.032573     0.123779    0.117264    0.013029   \n",
       "std           0.418103        0.177807     0.329866    0.322260    0.113585   \n",
       "min           0.000000        0.000000     0.000000    0.000000    0.000000   \n",
       "25%           0.000000        0.000000     0.000000    0.000000    0.000000   \n",
       "50%           0.000000        0.000000     0.000000    0.000000    0.000000   \n",
       "75%           0.000000        0.000000     0.000000    0.000000    0.000000   \n",
       "max           1.000000        1.000000     1.000000    1.000000    1.000000   \n",
       "\n",
       "                R  BackendDev  FrontendDev  Blockchain  \n",
       "count  307.000000  307.000000   307.000000  307.000000  \n",
       "mean     0.055375    0.254072     0.061889    0.013029  \n",
       "std      0.229083    0.436049     0.241348    0.113585  \n",
       "min      0.000000    0.000000     0.000000    0.000000  \n",
       "25%      0.000000    0.000000     0.000000    0.000000  \n",
       "50%      0.000000    0.000000     0.000000    0.000000  \n",
       "75%      0.000000    1.000000     0.000000    0.000000  \n",
       "max      1.000000    1.000000     1.000000    1.000000  "
      ]
     },
     "execution_count": 58,
     "metadata": {},
     "output_type": "execute_result"
    }
   ],
   "source": [
    "course_df.describe()o"
   ]
  },
  {
   "cell_type": "code",
   "execution_count": 67,
   "id": "3dca49d2-47d2-46ec-8ed9-9caf6e1fbf51",
   "metadata": {},
   "outputs": [
    {
     "data": {
      "text/plain": [
       "<Axes: >"
      ]
     },
     "execution_count": 67,
     "metadata": {},
     "output_type": "execute_result"
    },
    {
     "data": {
      "image/png": "[encoded data removed]",
      "text/plain": [
       "<Figure size 640x480 with 1 Axes>"
      ]
     },
     "metadata": {},
     "output_type": "display_data"
    }
   ],
   "source": [
    "ratings_df.groupby('user').size().hist()"
   ]
  },
  {
   "cell_type": "code",
   "execution_count": 69,
   "id": "22e8fd59-4b32-4b60-a453-fd2c71c8b84f",
   "metadata": {},
   "outputs": [],
   "source": [
    "agg_ratings_count = ratings_df.groupby(['item']).size().reset_index()"
   ]
  },
  {
   "cell_type": "code",
   "execution_count": 70,
   "id": "9593506b-6176-4e25-8a72-55d71347dc31",
   "metadata": {},
   "outputs": [],
   "source": [
    "agg_ratings_count.columns=['course', 'Ratings']"
   ]
  },
  {
   "cell_type": "code",
   "execution_count": 71,
   "id": "28e8fc2b-c1ee-48e2-b25a-a29000fe3b7a",
   "metadata": {},
   "outputs": [
    {
     "data": {
      "text/html": [
       "<div>\n",
       "<style scoped>\n",
       "    .dataframe tbody tr th:only-of-type {\n",
       "        vertical-align: middle;\n",
       "    }\n",
       "\n",
       "    .dataframe tbody tr th {\n",
       "        vertical-align: top;\n",
       "    }\n",
       "\n",
       "    .dataframe thead th {\n",
       "        text-align: right;\n",
       "    }\n",
       "</style>\n",
       "<table border=\"1\" class=\"dataframe\">\n",
       "  <thead>\n",
       "    <tr style=\"text-align: right;\">\n",
       "      <th></th>\n",
       "      <th>course</th>\n",
       "      <th>Ratings</th>\n",
       "    </tr>\n",
       "  </thead>\n",
       "  <tbody>\n",
       "    <tr>\n",
       "      <th>0</th>\n",
       "      <td>AI0111EN</td>\n",
       "      <td>383</td>\n",
       "    </tr>\n",
       "    <tr>\n",
       "      <th>1</th>\n",
       "      <td>BC0101EN</td>\n",
       "      <td>6719</td>\n",
       "    </tr>\n",
       "    <tr>\n",
       "      <th>2</th>\n",
       "      <td>BC0201EN</td>\n",
       "      <td>2866</td>\n",
       "    </tr>\n",
       "    <tr>\n",
       "      <th>3</th>\n",
       "      <td>BC0202EN</td>\n",
       "      <td>775</td>\n",
       "    </tr>\n",
       "    <tr>\n",
       "      <th>4</th>\n",
       "      <td>BD0101EN</td>\n",
       "      <td>13291</td>\n",
       "    </tr>\n",
       "    <tr>\n",
       "      <th>...</th>\n",
       "      <td>...</td>\n",
       "      <td>...</td>\n",
       "    </tr>\n",
       "    <tr>\n",
       "      <th>121</th>\n",
       "      <td>TMP0105EN</td>\n",
       "      <td>347</td>\n",
       "    </tr>\n",
       "    <tr>\n",
       "      <th>122</th>\n",
       "      <td>TMP0106</td>\n",
       "      <td>35</td>\n",
       "    </tr>\n",
       "    <tr>\n",
       "      <th>123</th>\n",
       "      <td>TMP107</td>\n",
       "      <td>2</td>\n",
       "    </tr>\n",
       "    <tr>\n",
       "      <th>124</th>\n",
       "      <td>WA0101EN</td>\n",
       "      <td>2247</td>\n",
       "    </tr>\n",
       "    <tr>\n",
       "      <th>125</th>\n",
       "      <td>WA0103EN</td>\n",
       "      <td>56</td>\n",
       "    </tr>\n",
       "  </tbody>\n",
       "</table>\n",
       "<p>126 rows × 2 columns</p>\n",
       "</div>"
      ],
      "text/plain": [
       "        course  Ratings\n",
       "0     AI0111EN      383\n",
       "1     BC0101EN     6719\n",
       "2     BC0201EN     2866\n",
       "3     BC0202EN      775\n",
       "4     BD0101EN    13291\n",
       "..         ...      ...\n",
       "121  TMP0105EN      347\n",
       "122    TMP0106       35\n",
       "123     TMP107        2\n",
       "124   WA0101EN     2247\n",
       "125   WA0103EN       56\n",
       "\n",
       "[126 rows x 2 columns]"
      ]
     },
     "execution_count": 71,
     "metadata": {},
     "output_type": "execute_result"
    }
   ],
   "source": [
    "agg_ratings_count"
   ]
  },
  {
   "cell_type": "code",
   "execution_count": 73,
   "id": "27cd5cd2-bcc2-4220-9118-4551f1cf7e56",
   "metadata": {},
   "outputs": [],
   "source": [
    "agg_ratings_count_sorted = agg_ratings_count.sort_values(by='Ratings', ascending=False).reset_index(drop=True)"
   ]
  },
  {
   "cell_type": "code",
   "execution_count": 74,
   "id": "7ff78e40-3f93-4fa4-8f82-6641890a37cb",
   "metadata": {},
   "outputs": [
    {
     "data": {
      "text/html": [
       "<div>\n",
       "<style scoped>\n",
       "    .dataframe tbody tr th:only-of-type {\n",
       "        vertical-align: middle;\n",
       "    }\n",
       "\n",
       "    .dataframe tbody tr th {\n",
       "        vertical-align: top;\n",
       "    }\n",
       "\n",
       "    .dataframe thead th {\n",
       "        text-align: right;\n",
       "    }\n",
       "</style>\n",
       "<table border=\"1\" class=\"dataframe\">\n",
       "  <thead>\n",
       "    <tr style=\"text-align: right;\">\n",
       "      <th></th>\n",
       "      <th>course</th>\n",
       "      <th>Ratings</th>\n",
       "    </tr>\n",
       "  </thead>\n",
       "  <tbody>\n",
       "    <tr>\n",
       "      <th>0</th>\n",
       "      <td>PY0101EN</td>\n",
       "      <td>14936</td>\n",
       "    </tr>\n",
       "    <tr>\n",
       "      <th>1</th>\n",
       "      <td>DS0101EN</td>\n",
       "      <td>14477</td>\n",
       "    </tr>\n",
       "    <tr>\n",
       "      <th>2</th>\n",
       "      <td>BD0101EN</td>\n",
       "      <td>13291</td>\n",
       "    </tr>\n",
       "    <tr>\n",
       "      <th>3</th>\n",
       "      <td>BD0111EN</td>\n",
       "      <td>10599</td>\n",
       "    </tr>\n",
       "    <tr>\n",
       "      <th>4</th>\n",
       "      <td>DA0101EN</td>\n",
       "      <td>8303</td>\n",
       "    </tr>\n",
       "    <tr>\n",
       "      <th>...</th>\n",
       "      <td>...</td>\n",
       "      <td>...</td>\n",
       "    </tr>\n",
       "    <tr>\n",
       "      <th>121</th>\n",
       "      <td>ST0201EN</td>\n",
       "      <td>1</td>\n",
       "    </tr>\n",
       "    <tr>\n",
       "      <th>122</th>\n",
       "      <td>ST0301EN</td>\n",
       "      <td>1</td>\n",
       "    </tr>\n",
       "    <tr>\n",
       "      <th>123</th>\n",
       "      <td>DX0106EN</td>\n",
       "      <td>1</td>\n",
       "    </tr>\n",
       "    <tr>\n",
       "      <th>124</th>\n",
       "      <td>DX0108EN</td>\n",
       "      <td>1</td>\n",
       "    </tr>\n",
       "    <tr>\n",
       "      <th>125</th>\n",
       "      <td>GPXX0QR3EN</td>\n",
       "      <td>1</td>\n",
       "    </tr>\n",
       "  </tbody>\n",
       "</table>\n",
       "<p>126 rows × 2 columns</p>\n",
       "</div>"
      ],
      "text/plain": [
       "         course  Ratings\n",
       "0      PY0101EN    14936\n",
       "1      DS0101EN    14477\n",
       "2      BD0101EN    13291\n",
       "3      BD0111EN    10599\n",
       "4      DA0101EN     8303\n",
       "..          ...      ...\n",
       "121    ST0201EN        1\n",
       "122    ST0301EN        1\n",
       "123    DX0106EN        1\n",
       "124    DX0108EN        1\n",
       "125  GPXX0QR3EN        1\n",
       "\n",
       "[126 rows x 2 columns]"
      ]
     },
     "execution_count": 74,
     "metadata": {},
     "output_type": "execute_result"
    }
   ],
   "source": [
    "agg_ratings_count_sorted"
   ]
  },
  {
   "cell_type": "code",
   "execution_count": 76,
   "id": "907bac8d-e3ae-439e-89b2-1d0152639690",
   "metadata": {},
   "outputs": [],
   "source": [
    "rated_courses = pd.merge(agg_ratings_count_sorted,course_df[['COURSE_ID', 'TITLE']],how='left', left_on='course', right_on='COURSE_ID')"
   ]
  },
  {
   "cell_type": "code",
   "execution_count": 82,
   "id": "eee92160-bce3-4d41-9b44-d3aebcaa893f",
   "metadata": {},
   "outputs": [],
   "source": [
    "top_20_rated_courses = rated_courses[:20]"
   ]
  },
  {
   "cell_type": "code",
   "execution_count": 83,
   "id": "76adc2f6-92a7-4692-ab93-8889721b2f4c",
   "metadata": {},
   "outputs": [
    {
     "data": {
      "text/html": [
       "<div>\n",
       "<style scoped>\n",
       "    .dataframe tbody tr th:only-of-type {\n",
       "        vertical-align: middle;\n",
       "    }\n",
       "\n",
       "    .dataframe tbody tr th {\n",
       "        vertical-align: top;\n",
       "    }\n",
       "\n",
       "    .dataframe thead th {\n",
       "        text-align: right;\n",
       "    }\n",
       "</style>\n",
       "<table border=\"1\" class=\"dataframe\">\n",
       "  <thead>\n",
       "    <tr style=\"text-align: right;\">\n",
       "      <th></th>\n",
       "      <th>TITLE</th>\n",
       "      <th>Ratings</th>\n",
       "    </tr>\n",
       "  </thead>\n",
       "  <tbody>\n",
       "    <tr>\n",
       "      <th>0</th>\n",
       "      <td>python for data science</td>\n",
       "      <td>14936</td>\n",
       "    </tr>\n",
       "    <tr>\n",
       "      <th>1</th>\n",
       "      <td>introduction to data science</td>\n",
       "      <td>14477</td>\n",
       "    </tr>\n",
       "    <tr>\n",
       "      <th>2</th>\n",
       "      <td>big data 101</td>\n",
       "      <td>13291</td>\n",
       "    </tr>\n",
       "    <tr>\n",
       "      <th>3</th>\n",
       "      <td>hadoop 101</td>\n",
       "      <td>10599</td>\n",
       "    </tr>\n",
       "    <tr>\n",
       "      <th>4</th>\n",
       "      <td>data analysis with python</td>\n",
       "      <td>8303</td>\n",
       "    </tr>\n",
       "    <tr>\n",
       "      <th>5</th>\n",
       "      <td>data science methodology</td>\n",
       "      <td>7719</td>\n",
       "    </tr>\n",
       "    <tr>\n",
       "      <th>6</th>\n",
       "      <td>machine learning with python</td>\n",
       "      <td>7644</td>\n",
       "    </tr>\n",
       "    <tr>\n",
       "      <th>7</th>\n",
       "      <td>spark fundamentals i</td>\n",
       "      <td>7551</td>\n",
       "    </tr>\n",
       "    <tr>\n",
       "      <th>8</th>\n",
       "      <td>data science hands on with open source tools</td>\n",
       "      <td>7199</td>\n",
       "    </tr>\n",
       "    <tr>\n",
       "      <th>9</th>\n",
       "      <td>blockchain essentials</td>\n",
       "      <td>6719</td>\n",
       "    </tr>\n",
       "    <tr>\n",
       "      <th>10</th>\n",
       "      <td>data visualization with python</td>\n",
       "      <td>6709</td>\n",
       "    </tr>\n",
       "    <tr>\n",
       "      <th>11</th>\n",
       "      <td>deep learning 101</td>\n",
       "      <td>6323</td>\n",
       "    </tr>\n",
       "    <tr>\n",
       "      <th>12</th>\n",
       "      <td>build your own chatbot</td>\n",
       "      <td>5512</td>\n",
       "    </tr>\n",
       "    <tr>\n",
       "      <th>13</th>\n",
       "      <td>r for data science</td>\n",
       "      <td>5237</td>\n",
       "    </tr>\n",
       "    <tr>\n",
       "      <th>14</th>\n",
       "      <td>statistics 101</td>\n",
       "      <td>5015</td>\n",
       "    </tr>\n",
       "    <tr>\n",
       "      <th>15</th>\n",
       "      <td>introduction to cloud</td>\n",
       "      <td>4983</td>\n",
       "    </tr>\n",
       "    <tr>\n",
       "      <th>16</th>\n",
       "      <td>docker essentials  a developer introduction</td>\n",
       "      <td>4480</td>\n",
       "    </tr>\n",
       "    <tr>\n",
       "      <th>17</th>\n",
       "      <td>sql and relational databases 101</td>\n",
       "      <td>3697</td>\n",
       "    </tr>\n",
       "    <tr>\n",
       "      <th>18</th>\n",
       "      <td>mapreduce and yarn</td>\n",
       "      <td>3670</td>\n",
       "    </tr>\n",
       "    <tr>\n",
       "      <th>19</th>\n",
       "      <td>data privacy fundamentals</td>\n",
       "      <td>3624</td>\n",
       "    </tr>\n",
       "  </tbody>\n",
       "</table>\n",
       "</div>"
      ],
      "text/plain": [
       "                                           TITLE  Ratings\n",
       "0                        python for data science    14936\n",
       "1                   introduction to data science    14477\n",
       "2                                   big data 101    13291\n",
       "3                                     hadoop 101    10599\n",
       "4                      data analysis with python     8303\n",
       "5                       data science methodology     7719\n",
       "6                   machine learning with python     7644\n",
       "7                           spark fundamentals i     7551\n",
       "8   data science hands on with open source tools     7199\n",
       "9                          blockchain essentials     6719\n",
       "10                data visualization with python     6709\n",
       "11                             deep learning 101     6323\n",
       "12                        build your own chatbot     5512\n",
       "13                            r for data science     5237\n",
       "14                                statistics 101     5015\n",
       "15                         introduction to cloud     4983\n",
       "16   docker essentials  a developer introduction     4480\n",
       "17              sql and relational databases 101     3697\n",
       "18                            mapreduce and yarn     3670\n",
       "19                     data privacy fundamentals     3624"
      ]
     },
     "execution_count": 83,
     "metadata": {},
     "output_type": "execute_result"
    }
   ],
   "source": [
    "top_20_rated_courses[['TITLE','Ratings']]"
   ]
  },
  {
   "cell_type": "code",
   "execution_count": 84,
   "id": "687756a9-c179-45db-a066-28bc887558de",
   "metadata": {},
   "outputs": [
    {
     "data": {
      "text/plain": [
       "233306"
      ]
     },
     "execution_count": 84,
     "metadata": {},
     "output_type": "execute_result"
    }
   ],
   "source": [
    "# Get the total course enrollments again\n",
    "total = ratings_df.shape[0]\n",
    "total"
   ]
  },
  {
   "cell_type": "code",
   "execution_count": 85,
   "id": "c216c899-1224-4ab9-9029-ac4b5a8d5fb2",
   "metadata": {},
   "outputs": [],
   "source": [
    "top = 0"
   ]
  },
  {
   "cell_type": "code",
   "execution_count": 91,
   "id": "be203746-107d-45e4-a9e5-8d1a4ecfe0c9",
   "metadata": {},
   "outputs": [
    {
     "data": {
      "text/plain": [
       "147688"
      ]
     },
     "execution_count": 91,
     "metadata": {},
     "output_type": "execute_result"
    }
   ],
   "source": [
    "top_enrollments = sum(top_20_rated_courses['Ratings'].values); top_enrollments"
   ]
  },
  {
   "cell_type": "code",
   "execution_count": 92,
   "id": "16bd77c0-5fc8-46bd-934f-abdd8ba514f7",
   "metadata": {},
   "outputs": [
    {
     "name": "stdout",
     "output_type": "stream",
     "text": [
      "Percentage of the top course enrollments 63.3%\n"
     ]
    }
   ],
   "source": [
    "print(f\"Percentage of the top course enrollments {round((top_enrollments * 100)/total, 2)}%\")"
   ]
  },
  {
   "cell_type": "code",
   "execution_count": null,
   "id": "23c94c58-d889-43d7-8b07-f05d495f9684",
   "metadata": {},
   "outputs": [],
   "source": []
  }
 ],
 "metadata": {
  "kernelspec": {
   "display_name": "Python 3 (ipykernel)",
   "language": "python",
   "name": "python3"
  },
  "language_info": {
   "codemirror_mode": {
    "name": "ipython",
    "version": 3
   },
   "file_extension": ".py",
   "mimetype": "text/x-python",
   "name": "python",
   "nbconvert_exporter": "python",
   "pygments_lexer": "ipython3",
   "version": "3.9.6"
  }
 },
 "nbformat": 4,
 "nbformat_minor": 5
}
