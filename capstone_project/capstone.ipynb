{
 "cells": [
  {
   "cell_type": "code",
   "execution_count": 1,
   "id": "540beed0-bc09-44e7-a9af-9c67f194807e",
   "metadata": {},
   "outputs": [
    {
     "name": "stdout",
     "output_type": "stream",
     "text": [
      "Defaulting to user installation because normal site-packages is not writeable\n",
      "Collecting seaborn==0.11.1\n",
      "  Downloading seaborn-0.11.1-py3-none-any.whl.metadata (2.3 kB)\n",
      "Requirement already satisfied: numpy>=1.15 in /Users/jacksonwalters/Library/Python/3.9/lib/python/site-packages (from seaborn==0.11.1) (1.26.2)\n",
      "Requirement already satisfied: scipy>=1.0 in /Users/jacksonwalters/Library/Python/3.9/lib/python/site-packages (from seaborn==0.11.1) (1.11.4)\n",
      "Requirement already satisfied: pandas>=0.23 in /Users/jacksonwalters/Library/Python/3.9/lib/python/site-packages (from seaborn==0.11.1) (1.3.5)\n",
      "Requirement already satisfied: matplotlib>=2.2 in /Users/jacksonwalters/Library/Python/3.9/lib/python/site-packages (from seaborn==0.11.1) (3.8.2)\n",
      "Requirement already satisfied: contourpy>=1.0.1 in /Users/jacksonwalters/Library/Python/3.9/lib/python/site-packages (from matplotlib>=2.2->seaborn==0.11.1) (1.2.0)\n",
      "Requirement already satisfied: cycler>=0.10 in /Users/jacksonwalters/Library/Python/3.9/lib/python/site-packages (from matplotlib>=2.2->seaborn==0.11.1) (0.12.1)\n",
      "Requirement already satisfied: fonttools>=4.22.0 in /Users/jacksonwalters/Library/Python/3.9/lib/python/site-packages (from matplotlib>=2.2->seaborn==0.11.1) (4.46.0)\n",
      "Requirement already satisfied: kiwisolver>=1.3.1 in /Users/jacksonwalters/Library/Python/3.9/lib/python/site-packages (from matplotlib>=2.2->seaborn==0.11.1) (1.4.5)\n",
      "Requirement already satisfied: packaging>=20.0 in /Users/jacksonwalters/Library/Python/3.9/lib/python/site-packages (from matplotlib>=2.2->seaborn==0.11.1) (23.2)\n",
      "Requirement already satisfied: pillow>=8 in /Users/jacksonwalters/Library/Python/3.9/lib/python/site-packages (from matplotlib>=2.2->seaborn==0.11.1) (10.1.0)\n",
      "Requirement already satisfied: pyparsing>=2.3.1 in /Users/jacksonwalters/Library/Python/3.9/lib/python/site-packages (from matplotlib>=2.2->seaborn==0.11.1) (3.1.1)\n",
      "Requirement already satisfied: python-dateutil>=2.7 in /Users/jacksonwalters/Library/Python/3.9/lib/python/site-packages (from matplotlib>=2.2->seaborn==0.11.1) (2.8.2)\n",
      "Requirement already satisfied: importlib-resources>=3.2.0 in /Users/jacksonwalters/Library/Python/3.9/lib/python/site-packages (from matplotlib>=2.2->seaborn==0.11.1) (6.1.1)\n",
      "Requirement already satisfied: pytz>=2017.3 in /Users/jacksonwalters/Library/Python/3.9/lib/python/site-packages (from pandas>=0.23->seaborn==0.11.1) (2023.3.post1)\n",
      "Requirement already satisfied: zipp>=3.1.0 in /Users/jacksonwalters/Library/Python/3.9/lib/python/site-packages (from importlib-resources>=3.2.0->matplotlib>=2.2->seaborn==0.11.1) (3.17.0)\n",
      "Requirement already satisfied: six>=1.5 in /Library/Developer/CommandLineTools/Library/Frameworks/Python3.framework/Versions/3.9/lib/python3.9/site-packages (from python-dateutil>=2.7->matplotlib>=2.2->seaborn==0.11.1) (1.15.0)\n",
      "Downloading seaborn-0.11.1-py3-none-any.whl (285 kB)\n",
      "\u001b[2K   \u001b[90m━━━━━━━━━━━━━━━━━━━━━━━━━━━━━━━━━━━━━━━━\u001b[0m \u001b[32m285.0/285.0 kB\u001b[0m \u001b[31m6.7 MB/s\u001b[0m eta \u001b[36m0:00:00\u001b[0ma \u001b[36m0:00:01\u001b[0m\n",
      "\u001b[?25hInstalling collected packages: seaborn\n",
      "  Attempting uninstall: seaborn\n",
      "    Found existing installation: seaborn 0.13.2\n",
      "    Uninstalling seaborn-0.13.2:\n",
      "      Successfully uninstalled seaborn-0.13.2\n",
      "Successfully installed seaborn-0.11.1\n",
      "Defaulting to user installation because normal site-packages is not writeable\n",
      "Collecting wordcloud==1.8.1\n",
      "  Downloading wordcloud-1.8.1.tar.gz (220 kB)\n",
      "\u001b[2K     \u001b[90m━━━━━━━━━━━━━━━━━━━━━━━━━━━━━━━━━━━━━━━\u001b[0m \u001b[32m220.7/220.7 kB\u001b[0m \u001b[31m5.2 MB/s\u001b[0m eta \u001b[36m0:00:00\u001b[0m00:01\u001b[0m\n",
      "\u001b[?25h  Preparing metadata (setup.py) ... \u001b[?25ldone\n",
      "\u001b[?25hRequirement already satisfied: numpy>=1.6.1 in /Users/jacksonwalters/Library/Python/3.9/lib/python/site-packages (from wordcloud==1.8.1) (1.26.2)\n",
      "Requirement already satisfied: pillow in /Users/jacksonwalters/Library/Python/3.9/lib/python/site-packages (from wordcloud==1.8.1) (10.1.0)\n",
      "Requirement already satisfied: matplotlib in /Users/jacksonwalters/Library/Python/3.9/lib/python/site-packages (from wordcloud==1.8.1) (3.8.2)\n",
      "Requirement already satisfied: contourpy>=1.0.1 in /Users/jacksonwalters/Library/Python/3.9/lib/python/site-packages (from matplotlib->wordcloud==1.8.1) (1.2.0)\n",
      "Requirement already satisfied: cycler>=0.10 in /Users/jacksonwalters/Library/Python/3.9/lib/python/site-packages (from matplotlib->wordcloud==1.8.1) (0.12.1)\n",
      "Requirement already satisfied: fonttools>=4.22.0 in /Users/jacksonwalters/Library/Python/3.9/lib/python/site-packages (from matplotlib->wordcloud==1.8.1) (4.46.0)\n",
      "Requirement already satisfied: kiwisolver>=1.3.1 in /Users/jacksonwalters/Library/Python/3.9/lib/python/site-packages (from matplotlib->wordcloud==1.8.1) (1.4.5)\n",
      "Requirement already satisfied: packaging>=20.0 in /Users/jacksonwalters/Library/Python/3.9/lib/python/site-packages (from matplotlib->wordcloud==1.8.1) (23.2)\n",
      "Requirement already satisfied: pyparsing>=2.3.1 in /Users/jacksonwalters/Library/Python/3.9/lib/python/site-packages (from matplotlib->wordcloud==1.8.1) (3.1.1)\n",
      "Requirement already satisfied: python-dateutil>=2.7 in /Users/jacksonwalters/Library/Python/3.9/lib/python/site-packages (from matplotlib->wordcloud==1.8.1) (2.8.2)\n",
      "Requirement already satisfied: importlib-resources>=3.2.0 in /Users/jacksonwalters/Library/Python/3.9/lib/python/site-packages (from matplotlib->wordcloud==1.8.1) (6.1.1)\n",
      "Requirement already satisfied: zipp>=3.1.0 in /Users/jacksonwalters/Library/Python/3.9/lib/python/site-packages (from importlib-resources>=3.2.0->matplotlib->wordcloud==1.8.1) (3.17.0)\n",
      "Requirement already satisfied: six>=1.5 in /Library/Developer/CommandLineTools/Library/Frameworks/Python3.framework/Versions/3.9/lib/python3.9/site-packages (from python-dateutil>=2.7->matplotlib->wordcloud==1.8.1) (1.15.0)\n",
      "Building wheels for collected packages: wordcloud\n",
      "  Building wheel for wordcloud (setup.py) ... \u001b[?25ldone\n",
      "\u001b[?25h  Created wheel for wordcloud: filename=wordcloud-1.8.1-cp39-cp39-macosx_10_9_universal2.whl size=216660 sha256=974919fdc88582dc104d5cf05f5120ff03066acdffb05c81ba6a05f7ce61d84a\n",
      "  Stored in directory: /Users/jacksonwalters/Library/Caches/pip/wheels/f9/7a/dd/06ef8b5dfe5483f6204133c08eeb16c287cc2c05e290ae2fc0\n",
      "Successfully built wordcloud\n",
      "Installing collected packages: wordcloud\n",
      "Successfully installed wordcloud-1.8.1\n"
     ]
    }
   ],
   "source": [
    "!pip install seaborn==0.11.1\n",
    "!pip install wordcloud==1.8.1"
   ]
  },
  {
   "cell_type": "code",
   "execution_count": 23,
   "id": "8e0fe387-8df0-4454-95dd-646317e5d667",
   "metadata": {},
   "outputs": [],
   "source": [
    "import pandas as pd\n",
    "import numpy as np\n",
    "import matplotlib.pyplot as plt\n",
    "import seaborn as sns\n",
    "\n",
    "%matplotlib inline"
   ]
  },
  {
   "cell_type": "code",
   "execution_count": 3,
   "id": "520ce3f3-bb86-43d7-9d3d-f02e3201b2af",
   "metadata": {},
   "outputs": [],
   "source": [
    "# also set a random state\n",
    "rs = 123"
   ]
  },
  {
   "cell_type": "code",
   "execution_count": 4,
   "id": "b5e50a95-d3ab-455f-b8f2-bd163246258f",
   "metadata": {},
   "outputs": [],
   "source": [
    "# Point to the datasets stored on the cloud\n",
    "course_genre_url = \"https://cf-courses-data.s3.us.cloud-object-storage.appdomain.cloud/IBM-ML321EN-SkillsNetwork/labs/datasets/course_genre.csv\"\n",
    "ratings_url = \"https://cf-courses-data.s3.us.cloud-object-storage.appdomain.cloud/IBM-ML321EN-SkillsNetwork/labs/datasets/ratings.csv\""
   ]
  },
  {
   "cell_type": "code",
   "execution_count": 5,
   "id": "721622e4-2112-4714-a9b9-14db15e23f1d",
   "metadata": {},
   "outputs": [],
   "source": [
    "course_df = pd.read_csv(course_genre_url)\n",
    "ratings_df = pd.read_csv(ratings_url)"
   ]
  },
  {
   "cell_type": "code",
   "execution_count": 6,
   "id": "7c7fdc58-5293-4bdc-bad9-65eb479a72f2",
   "metadata": {},
   "outputs": [
    {
     "data": {
      "text/plain": [
       "Index(['COURSE_ID', 'TITLE', 'Database', 'Python', 'CloudComputing',\n",
       "       'DataAnalysis', 'Containers', 'MachineLearning', 'ComputerVision',\n",
       "       'DataScience', 'BigData', 'Chatbot', 'R', 'BackendDev', 'FrontendDev',\n",
       "       'Blockchain'],\n",
       "      dtype='object')"
      ]
     },
     "execution_count": 6,
     "metadata": {},
     "output_type": "execute_result"
    }
   ],
   "source": [
    "course_df.columns"
   ]
  },
  {
   "cell_type": "code",
   "execution_count": 7,
   "id": "26058ecc-c71e-4365-a071-ee4d09cfc4c2",
   "metadata": {},
   "outputs": [
    {
     "data": {
      "text/plain": [
       "307"
      ]
     },
     "execution_count": 7,
     "metadata": {},
     "output_type": "execute_result"
    }
   ],
   "source": [
    "course_df.shape[0]"
   ]
  },
  {
   "cell_type": "code",
   "execution_count": 8,
   "id": "763ae035-7219-4c30-8f01-ca516b57f953",
   "metadata": {},
   "outputs": [
    {
     "data": {
      "text/html": [
       "<div>\n",
       "<style scoped>\n",
       "    .dataframe tbody tr th:only-of-type {\n",
       "        vertical-align: middle;\n",
       "    }\n",
       "\n",
       "    .dataframe tbody tr th {\n",
       "        vertical-align: top;\n",
       "    }\n",
       "\n",
       "    .dataframe thead th {\n",
       "        text-align: right;\n",
       "    }\n",
       "</style>\n",
       "<table border=\"1\" class=\"dataframe\">\n",
       "  <thead>\n",
       "    <tr style=\"text-align: right;\">\n",
       "      <th></th>\n",
       "      <th>COURSE_ID</th>\n",
       "      <th>TITLE</th>\n",
       "      <th>Database</th>\n",
       "      <th>Python</th>\n",
       "      <th>CloudComputing</th>\n",
       "      <th>DataAnalysis</th>\n",
       "      <th>Containers</th>\n",
       "      <th>MachineLearning</th>\n",
       "      <th>ComputerVision</th>\n",
       "      <th>DataScience</th>\n",
       "      <th>BigData</th>\n",
       "      <th>Chatbot</th>\n",
       "      <th>R</th>\n",
       "      <th>BackendDev</th>\n",
       "      <th>FrontendDev</th>\n",
       "      <th>Blockchain</th>\n",
       "    </tr>\n",
       "  </thead>\n",
       "  <tbody>\n",
       "    <tr>\n",
       "      <th>0</th>\n",
       "      <td>ML0201EN</td>\n",
       "      <td>robots are coming  build iot apps with watson ...</td>\n",
       "      <td>0</td>\n",
       "      <td>0</td>\n",
       "      <td>0</td>\n",
       "      <td>0</td>\n",
       "      <td>0</td>\n",
       "      <td>0</td>\n",
       "      <td>0</td>\n",
       "      <td>0</td>\n",
       "      <td>0</td>\n",
       "      <td>0</td>\n",
       "      <td>0</td>\n",
       "      <td>1</td>\n",
       "      <td>1</td>\n",
       "      <td>0</td>\n",
       "    </tr>\n",
       "    <tr>\n",
       "      <th>1</th>\n",
       "      <td>ML0122EN</td>\n",
       "      <td>accelerating deep learning with gpu</td>\n",
       "      <td>0</td>\n",
       "      <td>1</td>\n",
       "      <td>0</td>\n",
       "      <td>0</td>\n",
       "      <td>0</td>\n",
       "      <td>1</td>\n",
       "      <td>0</td>\n",
       "      <td>1</td>\n",
       "      <td>0</td>\n",
       "      <td>0</td>\n",
       "      <td>0</td>\n",
       "      <td>0</td>\n",
       "      <td>0</td>\n",
       "      <td>0</td>\n",
       "    </tr>\n",
       "    <tr>\n",
       "      <th>2</th>\n",
       "      <td>GPXX0ZG0EN</td>\n",
       "      <td>consuming restful services using the reactive ...</td>\n",
       "      <td>0</td>\n",
       "      <td>0</td>\n",
       "      <td>0</td>\n",
       "      <td>0</td>\n",
       "      <td>0</td>\n",
       "      <td>0</td>\n",
       "      <td>0</td>\n",
       "      <td>0</td>\n",
       "      <td>0</td>\n",
       "      <td>0</td>\n",
       "      <td>0</td>\n",
       "      <td>1</td>\n",
       "      <td>1</td>\n",
       "      <td>0</td>\n",
       "    </tr>\n",
       "    <tr>\n",
       "      <th>3</th>\n",
       "      <td>RP0105EN</td>\n",
       "      <td>analyzing big data in r using apache spark</td>\n",
       "      <td>1</td>\n",
       "      <td>0</td>\n",
       "      <td>0</td>\n",
       "      <td>1</td>\n",
       "      <td>0</td>\n",
       "      <td>0</td>\n",
       "      <td>0</td>\n",
       "      <td>0</td>\n",
       "      <td>1</td>\n",
       "      <td>0</td>\n",
       "      <td>1</td>\n",
       "      <td>0</td>\n",
       "      <td>0</td>\n",
       "      <td>0</td>\n",
       "    </tr>\n",
       "    <tr>\n",
       "      <th>4</th>\n",
       "      <td>GPXX0Z2PEN</td>\n",
       "      <td>containerizing  packaging  and running a sprin...</td>\n",
       "      <td>0</td>\n",
       "      <td>0</td>\n",
       "      <td>0</td>\n",
       "      <td>0</td>\n",
       "      <td>1</td>\n",
       "      <td>0</td>\n",
       "      <td>0</td>\n",
       "      <td>0</td>\n",
       "      <td>0</td>\n",
       "      <td>0</td>\n",
       "      <td>0</td>\n",
       "      <td>1</td>\n",
       "      <td>0</td>\n",
       "      <td>0</td>\n",
       "    </tr>\n",
       "  </tbody>\n",
       "</table>\n",
       "</div>"
      ],
      "text/plain": [
       "    COURSE_ID                                              TITLE  Database  \\\n",
       "0    ML0201EN  robots are coming  build iot apps with watson ...         0   \n",
       "1    ML0122EN                accelerating deep learning with gpu         0   \n",
       "2  GPXX0ZG0EN  consuming restful services using the reactive ...         0   \n",
       "3    RP0105EN         analyzing big data in r using apache spark         1   \n",
       "4  GPXX0Z2PEN  containerizing  packaging  and running a sprin...         0   \n",
       "\n",
       "   Python  CloudComputing  DataAnalysis  Containers  MachineLearning  \\\n",
       "0       0               0             0           0                0   \n",
       "1       1               0             0           0                1   \n",
       "2       0               0             0           0                0   \n",
       "3       0               0             1           0                0   \n",
       "4       0               0             0           1                0   \n",
       "\n",
       "   ComputerVision  DataScience  BigData  Chatbot  R  BackendDev  FrontendDev  \\\n",
       "0               0            0        0        0  0           1            1   \n",
       "1               0            1        0        0  0           0            0   \n",
       "2               0            0        0        0  0           1            1   \n",
       "3               0            0        1        0  1           0            0   \n",
       "4               0            0        0        0  0           1            0   \n",
       "\n",
       "   Blockchain  \n",
       "0           0  \n",
       "1           0  \n",
       "2           0  \n",
       "3           0  \n",
       "4           0  "
      ]
     },
     "execution_count": 8,
     "metadata": {},
     "output_type": "execute_result"
    }
   ],
   "source": [
    "course_df.head()"
   ]
  },
  {
   "cell_type": "code",
   "execution_count": 9,
   "id": "13e1b348-1576-4b8f-8e12-59336249b052",
   "metadata": {},
   "outputs": [
    {
     "data": {
      "text/plain": [
       "COURSE_ID          object\n",
       "TITLE              object\n",
       "Database            int64\n",
       "Python              int64\n",
       "CloudComputing      int64\n",
       "DataAnalysis        int64\n",
       "Containers          int64\n",
       "MachineLearning     int64\n",
       "ComputerVision      int64\n",
       "DataScience         int64\n",
       "BigData             int64\n",
       "Chatbot             int64\n",
       "R                   int64\n",
       "BackendDev          int64\n",
       "FrontendDev         int64\n",
       "Blockchain          int64\n",
       "dtype: object"
      ]
     },
     "execution_count": 9,
     "metadata": {},
     "output_type": "execute_result"
    }
   ],
   "source": [
    "course_df.dtypes"
   ]
  },
  {
   "cell_type": "code",
   "execution_count": 10,
   "id": "aba013c4-aff6-4242-8537-d946da16f571",
   "metadata": {},
   "outputs": [
    {
     "data": {
      "text/plain": [
       "COURSE_ID                                     ML0122EN\n",
       "TITLE              accelerating deep learning with gpu\n",
       "Database                                             0\n",
       "Python                                               1\n",
       "CloudComputing                                       0\n",
       "DataAnalysis                                         0\n",
       "Containers                                           0\n",
       "MachineLearning                                      1\n",
       "ComputerVision                                       0\n",
       "DataScience                                          1\n",
       "BigData                                              0\n",
       "Chatbot                                              0\n",
       "R                                                    0\n",
       "BackendDev                                           0\n",
       "FrontendDev                                          0\n",
       "Blockchain                                           0\n",
       "Name: 1, dtype: object"
      ]
     },
     "execution_count": 10,
     "metadata": {},
     "output_type": "execute_result"
    }
   ],
   "source": [
    "course_df.iloc[1, ]"
   ]
  },
  {
   "cell_type": "code",
   "execution_count": 11,
   "id": "e1632235-73a4-4185-b55e-dc7c23315215",
   "metadata": {},
   "outputs": [],
   "source": [
    "titles = \" \".join(title for title in course_df['TITLE'].astype(str))"
   ]
  },
  {
   "cell_type": "code",
   "execution_count": 26,
   "id": "4fd9a5ad-d65b-4849-a271-12a6a85b268d",
   "metadata": {},
   "outputs": [],
   "source": [
    "indices = course_df['MachineLearning'] == 1\n",
    "\n",
    "ml_courses = course_df[indices]"
   ]
  },
  {
   "cell_type": "code",
   "execution_count": 34,
   "id": "82c4815a-8bda-495a-8718-2b3d14d201eb",
   "metadata": {},
   "outputs": [],
   "source": [
    "big_data_courses = course_df[course_df['BigData'] == 1]"
   ]
  },
  {
   "cell_type": "code",
   "execution_count": 36,
   "id": "d7b5ac74-cbd1-472f-9041-abbab1d9a405",
   "metadata": {},
   "outputs": [],
   "source": [
    "ml_big_data_courses = course_df[(course_df['BigData'] == 1) & (course_df['MachineLearning'] == 1)]"
   ]
  },
  {
   "cell_type": "code",
   "execution_count": 38,
   "id": "17ec8306-59e0-49e5-97d0-0e07a63f78cf",
   "metadata": {},
   "outputs": [
    {
     "data": {
      "text/plain": [
       "Index(['Database', 'Python', 'CloudComputing', 'DataAnalysis', 'Containers',\n",
       "       'MachineLearning', 'ComputerVision', 'DataScience', 'BigData',\n",
       "       'Chatbot', 'R', 'BackendDev', 'FrontendDev', 'Blockchain'],\n",
       "      dtype='object')"
      ]
     },
     "execution_count": 38,
     "metadata": {},
     "output_type": "execute_result"
    }
   ],
   "source": [
    "genres = course_df.columns[2:]\n",
    "genres"
   ]
  },
  {
   "cell_type": "code",
   "execution_count": 41,
   "id": "55d69bf2-caa3-4888-82da-cd8eb3eda7d7",
   "metadata": {},
   "outputs": [],
   "source": [
    "genre_sums = course_df[genres].sum(axis=0)"
   ]
  },
  {
   "cell_type": "code",
   "execution_count": 43,
   "id": "4b12e6d2-28a1-4a8e-991d-cf022e289a24",
   "metadata": {},
   "outputs": [],
   "source": [
    "genre_sums_df = pd.DataFrame(genre_sums, columns = ['Count'])"
   ]
  },
  {
   "cell_type": "code",
   "execution_count": 44,
   "id": "b765852e-2dd6-462d-a63d-bdf554fe01a5",
   "metadata": {},
   "outputs": [
    {
     "data": {
      "text/html": [
       "<div>\n",
       "<style scoped>\n",
       "    .dataframe tbody tr th:only-of-type {\n",
       "        vertical-align: middle;\n",
       "    }\n",
       "\n",
       "    .dataframe tbody tr th {\n",
       "        vertical-align: top;\n",
       "    }\n",
       "\n",
       "    .dataframe thead th {\n",
       "        text-align: right;\n",
       "    }\n",
       "</style>\n",
       "<table border=\"1\" class=\"dataframe\">\n",
       "  <thead>\n",
       "    <tr style=\"text-align: right;\">\n",
       "      <th></th>\n",
       "      <th>Count</th>\n",
       "    </tr>\n",
       "  </thead>\n",
       "  <tbody>\n",
       "    <tr>\n",
       "      <th>BackendDev</th>\n",
       "      <td>78</td>\n",
       "    </tr>\n",
       "    <tr>\n",
       "      <th>MachineLearning</th>\n",
       "      <td>69</td>\n",
       "    </tr>\n",
       "    <tr>\n",
       "      <th>Database</th>\n",
       "      <td>60</td>\n",
       "    </tr>\n",
       "    <tr>\n",
       "      <th>DataAnalysis</th>\n",
       "      <td>56</td>\n",
       "    </tr>\n",
       "    <tr>\n",
       "      <th>DataScience</th>\n",
       "      <td>38</td>\n",
       "    </tr>\n",
       "    <tr>\n",
       "      <th>CloudComputing</th>\n",
       "      <td>37</td>\n",
       "    </tr>\n",
       "    <tr>\n",
       "      <th>BigData</th>\n",
       "      <td>36</td>\n",
       "    </tr>\n",
       "    <tr>\n",
       "      <th>Python</th>\n",
       "      <td>28</td>\n",
       "    </tr>\n",
       "    <tr>\n",
       "      <th>FrontendDev</th>\n",
       "      <td>19</td>\n",
       "    </tr>\n",
       "    <tr>\n",
       "      <th>Containers</th>\n",
       "      <td>17</td>\n",
       "    </tr>\n",
       "    <tr>\n",
       "      <th>R</th>\n",
       "      <td>17</td>\n",
       "    </tr>\n",
       "    <tr>\n",
       "      <th>ComputerVision</th>\n",
       "      <td>10</td>\n",
       "    </tr>\n",
       "    <tr>\n",
       "      <th>Chatbot</th>\n",
       "      <td>4</td>\n",
       "    </tr>\n",
       "    <tr>\n",
       "      <th>Blockchain</th>\n",
       "      <td>4</td>\n",
       "    </tr>\n",
       "  </tbody>\n",
       "</table>\n",
       "</div>"
      ],
      "text/plain": [
       "                 Count\n",
       "BackendDev          78\n",
       "MachineLearning     69\n",
       "Database            60\n",
       "DataAnalysis        56\n",
       "DataScience         38\n",
       "CloudComputing      37\n",
       "BigData             36\n",
       "Python              28\n",
       "FrontendDev         19\n",
       "Containers          17\n",
       "R                   17\n",
       "ComputerVision      10\n",
       "Chatbot              4\n",
       "Blockchain           4"
      ]
     },
     "execution_count": 44,
     "metadata": {},
     "output_type": "execute_result"
    }
   ],
   "source": [
    "genre_sums_df.sort_values(by = \"Count\", ascending=False)"
   ]
  },
  {
   "cell_type": "code",
   "execution_count": null,
   "id": "91831b65-da86-4224-87af-19da7dc00181",
   "metadata": {},
   "outputs": [],
   "source": []
  }
 ],
 "metadata": {
  "kernelspec": {
   "display_name": "Python 3 (ipykernel)",
   "language": "python",
   "name": "python3"
  },
  "language_info": {
   "codemirror_mode": {
    "name": "ipython",
    "version": 3
   },
   "file_extension": ".py",
   "mimetype": "text/x-python",
   "name": "python",
   "nbconvert_exporter": "python",
   "pygments_lexer": "ipython3",
   "version": "3.9.6"
  }
 },
 "nbformat": 4,
 "nbformat_minor": 5
}
